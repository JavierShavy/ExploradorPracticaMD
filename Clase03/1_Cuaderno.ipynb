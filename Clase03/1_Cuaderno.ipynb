{
 "cells": [
  {
   "cell_type": "markdown",
   "metadata": {},
   "source": [
    "# Manejo de variables"
   ]
  },
  {
   "cell_type": "code",
   "execution_count": 3,
   "metadata": {},
   "outputs": [
    {
     "name": "stdout",
     "output_type": "stream",
     "text": [
      "12\n",
      "Sección de código 1\n"
     ]
    }
   ],
   "source": [
    "#Variable entero\n",
    "variable_int = 12\n",
    "print (variable_int)\n",
    "print (\"Sección de código 1\")"
   ]
  },
  {
   "cell_type": "markdown",
   "metadata": {},
   "source": [
    "# Sección 2"
   ]
  },
  {
   "cell_type": "code",
   "execution_count": 5,
   "metadata": {},
   "outputs": [
    {
     "name": "stdout",
     "output_type": "stream",
     "text": [
      "ESTA ES MI VARIABLE\n"
     ]
    }
   ],
   "source": [
    "variable_str = \"EstA eS mi VaRiAble\"\n",
    "variable_str.upper()\n",
    "print (variable_str.upper())"
   ]
  },
  {
   "cell_type": "markdown",
   "metadata": {},
   "source": [
    "# Manejo de Listas en Python\n",
    "El array se conoce como Lista en Python, Una cadena se considera como una Lista de letras o caracteres"
   ]
  },
  {
   "cell_type": "code",
   "execution_count": 43,
   "metadata": {},
   "outputs": [
    {
     "name": "stdout",
     "output_type": "stream",
     "text": [
      "<class 'str'>\n",
      "['a', 'b', 1, 1.8]\n"
     ]
    }
   ],
   "source": [
    "variable_str = \"EstA eS mi VaRiAble\"\n",
    "\n",
    "variable_str.upper()\n",
    "variable_str.count(\"eS\")\n",
    "variable_str.replace(\"eS\", 'oS')\n",
    "\n",
    "variable_str_two =\"La Segunda Var\"\n",
    "\n",
    "variable_str + variable_str_two #Concatenar con signo +\n",
    "\n",
    "'m' in variable_str #Devolver verdadedor o falso si el texto se encuentra\n",
    "\n",
    "list = ['a', 'b', 1, 1.8] #La lista se define con corchetes, puede contener cualquier tipo de dato\n",
    "print (type(list[1]))\n",
    "print (list[0:4]) #Extraer elementos de la lista indicando el rango"
   ]
  }
 ],
 "metadata": {
  "kernelspec": {
   "display_name": "Python 3",
   "language": "python",
   "name": "python3"
  },
  "language_info": {
   "codemirror_mode": {
    "name": "ipython",
    "version": 3
   },
   "file_extension": ".py",
   "mimetype": "text/x-python",
   "name": "python",
   "nbconvert_exporter": "python",
   "pygments_lexer": "ipython3",
   "version": "3.12.2"
  }
 },
 "nbformat": 4,
 "nbformat_minor": 2
}
